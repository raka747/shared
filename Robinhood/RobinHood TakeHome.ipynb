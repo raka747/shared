{
 "cells": [
  {
   "cell_type": "markdown",
   "metadata": {},
   "source": [
    "##### Question 1:"
   ]
  },
  {
   "cell_type": "code",
   "execution_count": null,
   "metadata": {},
   "outputs": [],
   "source": [
    "Part(a): \n",
    "    Ans: 2/3\n",
    "Part(b):\n",
    "    Ans: 2/3\n",
    "Part(c):\n",
    "    Ans: 1/4\n",
    "Part(d): \n",
    "    Ans: 1/2\n",
    "Part(e):\n",
    "    Ans: 1/2\n",
    "Part(f):\n",
    "    Ans: 5/8"
   ]
  },
  {
   "cell_type": "markdown",
   "metadata": {},
   "source": [
    "#### Question 2:"
   ]
  },
  {
   "cell_type": "code",
   "execution_count": 28,
   "metadata": {},
   "outputs": [],
   "source": [
    "import pandas as pd\n",
    "from scipy import stats\n",
    "import numpy as np\n",
    "from matplotlib import pyplot as plt\n",
    "%matplotlib inline"
   ]
  },
  {
   "cell_type": "code",
   "execution_count": 2,
   "metadata": {},
   "outputs": [],
   "source": [
    "prob2 = pd.read_csv('logistic_coef.csv', header = 0)"
   ]
  },
  {
   "cell_type": "code",
   "execution_count": null,
   "metadata": {},
   "outputs": [],
   "source": [
    "prob2['z_calc'] = prob2['Coef']/prob2['StdErr']"
   ]
  },
  {
   "cell_type": "code",
   "execution_count": 16,
   "metadata": {},
   "outputs": [],
   "source": [
    "p_values = stats.norm.sf(abs(prob2['z_score']))*2\n",
    "prob2['p_value'] = p_values\n",
    "prob2['p_value'] = round(prob2['p_value'], 6)\n",
    "prob2['imp_5%'] = (prob2['p_value'] <= 0.05)"
   ]
  },
  {
   "cell_type": "code",
   "execution_count": 17,
   "metadata": {},
   "outputs": [
    {
     "data": {
      "text/html": [
       "<div>\n",
       "<style scoped>\n",
       "    .dataframe tbody tr th:only-of-type {\n",
       "        vertical-align: middle;\n",
       "    }\n",
       "\n",
       "    .dataframe tbody tr th {\n",
       "        vertical-align: top;\n",
       "    }\n",
       "\n",
       "    .dataframe thead th {\n",
       "        text-align: right;\n",
       "    }\n",
       "</style>\n",
       "<table border=\"1\" class=\"dataframe\">\n",
       "  <thead>\n",
       "    <tr style=\"text-align: right;\">\n",
       "      <th></th>\n",
       "      <th>Var</th>\n",
       "      <th>Coef</th>\n",
       "      <th>StdErr</th>\n",
       "      <th>z_score</th>\n",
       "      <th>z_calc</th>\n",
       "      <th>p_value</th>\n",
       "      <th>imp_5%</th>\n",
       "    </tr>\n",
       "  </thead>\n",
       "  <tbody>\n",
       "    <tr>\n",
       "      <th>0</th>\n",
       "      <td>Male</td>\n",
       "      <td>1.4500</td>\n",
       "      <td>0.09000</td>\n",
       "      <td>15.81</td>\n",
       "      <td>16.111111</td>\n",
       "      <td>0.000000</td>\n",
       "      <td>True</td>\n",
       "    </tr>\n",
       "    <tr>\n",
       "      <th>1</th>\n",
       "      <td>Female</td>\n",
       "      <td>-2.1100</td>\n",
       "      <td>0.10000</td>\n",
       "      <td>-21.95</td>\n",
       "      <td>-21.100000</td>\n",
       "      <td>0.000000</td>\n",
       "      <td>True</td>\n",
       "    </tr>\n",
       "    <tr>\n",
       "      <th>2</th>\n",
       "      <td>Ln_Equity_value</td>\n",
       "      <td>-0.1090</td>\n",
       "      <td>0.04100</td>\n",
       "      <td>-2.63</td>\n",
       "      <td>-2.658537</td>\n",
       "      <td>0.008538</td>\n",
       "      <td>True</td>\n",
       "    </tr>\n",
       "    <tr>\n",
       "      <th>3</th>\n",
       "      <td>Age</td>\n",
       "      <td>-0.0130</td>\n",
       "      <td>0.00960</td>\n",
       "      <td>-1.40</td>\n",
       "      <td>-1.354167</td>\n",
       "      <td>0.161513</td>\n",
       "      <td>False</td>\n",
       "    </tr>\n",
       "    <tr>\n",
       "      <th>4</th>\n",
       "      <td>Age_Sq</td>\n",
       "      <td>0.0001</td>\n",
       "      <td>0.00009</td>\n",
       "      <td>1.52</td>\n",
       "      <td>1.111111</td>\n",
       "      <td>0.128511</td>\n",
       "      <td>False</td>\n",
       "    </tr>\n",
       "    <tr>\n",
       "      <th>5</th>\n",
       "      <td>Sectortrades</td>\n",
       "      <td>1.7700</td>\n",
       "      <td>0.33000</td>\n",
       "      <td>5.37</td>\n",
       "      <td>5.363636</td>\n",
       "      <td>0.000000</td>\n",
       "      <td>True</td>\n",
       "    </tr>\n",
       "    <tr>\n",
       "      <th>6</th>\n",
       "      <td>CompanyY</td>\n",
       "      <td>2.0700</td>\n",
       "      <td>0.39900</td>\n",
       "      <td>5.18</td>\n",
       "      <td>5.187970</td>\n",
       "      <td>0.000000</td>\n",
       "      <td>True</td>\n",
       "    </tr>\n",
       "    <tr>\n",
       "      <th>7</th>\n",
       "      <td>CompanyZ</td>\n",
       "      <td>-0.8720</td>\n",
       "      <td>0.43700</td>\n",
       "      <td>-2.01</td>\n",
       "      <td>-1.995423</td>\n",
       "      <td>0.044431</td>\n",
       "      <td>True</td>\n",
       "    </tr>\n",
       "    <tr>\n",
       "      <th>8</th>\n",
       "      <td>Constan</td>\n",
       "      <td>1.2000</td>\n",
       "      <td>0.48400</td>\n",
       "      <td>2.48</td>\n",
       "      <td>2.479339</td>\n",
       "      <td>0.013138</td>\n",
       "      <td>True</td>\n",
       "    </tr>\n",
       "  </tbody>\n",
       "</table>\n",
       "</div>"
      ],
      "text/plain": [
       "               Var    Coef   StdErr  z_score     z_calc   p_value  imp_5%\n",
       "0             Male  1.4500  0.09000    15.81  16.111111  0.000000    True\n",
       "1           Female -2.1100  0.10000   -21.95 -21.100000  0.000000    True\n",
       "2  Ln_Equity_value -0.1090  0.04100    -2.63  -2.658537  0.008538    True\n",
       "3              Age -0.0130  0.00960    -1.40  -1.354167  0.161513   False\n",
       "4           Age_Sq  0.0001  0.00009     1.52   1.111111  0.128511   False\n",
       "5     Sectortrades  1.7700  0.33000     5.37   5.363636  0.000000    True\n",
       "6         CompanyY  2.0700  0.39900     5.18   5.187970  0.000000    True\n",
       "7         CompanyZ -0.8720  0.43700    -2.01  -1.995423  0.044431    True\n",
       "8          Constan  1.2000  0.48400     2.48   2.479339  0.013138    True"
      ]
     },
     "execution_count": 17,
     "metadata": {},
     "output_type": "execute_result"
    }
   ],
   "source": [
    "prob2"
   ]
  },
  {
   "cell_type": "code",
   "execution_count": 39,
   "metadata": {},
   "outputs": [
    {
     "name": "stdout",
     "output_type": "stream",
     "text": [
      "equity_adam is -1.1793558330007208\n",
      "equity_bob is -1.330461918362789\n",
      "equity_chris is -1.1550331859074718\n",
      "equity_david is -1.324870949274546\n"
     ]
    }
   ],
   "source": [
    "equity_coef = -0.1090\n",
    "equity_adam = np.log(50000)*equity_coef\n",
    "print('equity_adam is {}'.format(equity_adam))\n",
    "equity_bob = np.log(200000)*equity_coef\n",
    "print('equity_bob is {}'.format(equity_bob))\n",
    "equity_chris = np.log(40000)*equity_coef\n",
    "print('equity_chris is {}'.format(equity_chris))\n",
    "equity_david = np.log(190000)*equity_coef\n",
    "print('equity_david is {}'.format(equity_david))"
   ]
  },
  {
   "cell_type": "code",
   "execution_count": 30,
   "metadata": {},
   "outputs": [
    {
     "name": "stdout",
     "output_type": "stream",
     "text": [
      "odds is -0.6931471805599453\n"
     ]
    }
   ],
   "source": [
    "odds = np.log(0.5)\n",
    "print('odds is {}'.format(odds))"
   ]
  },
  {
   "cell_type": "code",
   "execution_count": 40,
   "metadata": {},
   "outputs": [
    {
     "name": "stdout",
     "output_type": "stream",
     "text": [
      "logit_chris is 0.02432264709324894\n"
     ]
    }
   ],
   "source": [
    "logit_chris = (-1*equity_adam) + equity_chris\n",
    "print('logit_chris is {}'.format(logit_chris))"
   ]
  },
  {
   "cell_type": "code",
   "execution_count": 41,
   "metadata": {},
   "outputs": [
    {
     "name": "stdout",
     "output_type": "stream",
     "text": [
      "p_chris is 0.5060803620188986\n"
     ]
    }
   ],
   "source": [
    "p_chris = 1/(1 + np.exp(-logit_chris))\n",
    "print('p_chris is {}'.format(p_chris))"
   ]
  },
  {
   "cell_type": "code",
   "execution_count": 43,
   "metadata": {},
   "outputs": [
    {
     "name": "stdout",
     "output_type": "stream",
     "text": [
      "log_david is 0.00559096908824297\n",
      "p_david is 0.5013977386310775\n"
     ]
    }
   ],
   "source": [
    "log_david = -1*equity_bob + equity_david\n",
    "print('log_david is {}'.format(log_david))\n",
    "p_david = 1/(1 + np.exp(-log_david))\n",
    "print('p_david is {}'.format(p_david))"
   ]
  },
  {
   "cell_type": "code",
   "execution_count": null,
   "metadata": {},
   "outputs": [],
   "source": [
    "Solution A:"
   ]
  },
  {
   "cell_type": "raw",
   "metadata": {},
   "source": [
    "Chris has slighlty more probability. \n",
    "\n",
    "For Chris:\n",
    "Adam's given probability = 0.5 => logit is zero \n",
    "Since other properties of Adam and Chris are same, we can extract log(equity)*coeficient product of these properties which is nothing but -(-0.1090*log(50000))\n",
    "\n",
    "Even though the dollar difference is same in both cases, logarithmic values are not."
   ]
  },
  {
   "cell_type": "code",
   "execution_count": null,
   "metadata": {},
   "outputs": [],
   "source": [
    "Solution B:"
   ]
  },
  {
   "cell_type": "raw",
   "metadata": {},
   "source": [
    "At 95% confidence level, z-value of -2.01 is significant. And this value has negative impact on whether a client buys stock of company X.\n",
    "\n",
    "Intuition:\n",
    "Retail Investors generally tend to concentrate their portfolios, whereas institutional investors tend to follow diversification. Experienced investors tend to maintain diversified portfolios. Experience of a retail investor can be verified by variables like no. of years of investing, total value of portfolio e.t.c\n",
    "\n",
    "Based on positive relation of 'Sector Trades' variable with company X, we may conclude that users are Retail investors. Therefore Company Y maybe a stock which is not in the same sector as Company X."
   ]
  },
  {
   "cell_type": "code",
   "execution_count": null,
   "metadata": {},
   "outputs": [],
   "source": [
    "Solution C:"
   ]
  },
  {
   "cell_type": "raw",
   "metadata": {},
   "source": [
    "As per the model output (negative z-score), increase in Age of a user has negative impact on whether a user buys Company X stock. But the Age_sq variable has a positive impact dependent variable. Implying that the decrease in negative impact of Age as Age increases. By observing the plot below approx. at the age of 65, we see positive impact of Age and Age_sq combined."
   ]
  },
  {
   "cell_type": "code",
   "execution_count": 62,
   "metadata": {},
   "outputs": [
    {
     "data": {
      "text/plain": [
       "Text(0,0.5,'-0.0130*Age + 0.0001*Age_sq')"
      ]
     },
     "execution_count": 62,
     "metadata": {},
     "output_type": "execute_result"
    },
    {
     "data": {
      "image/png": "[encoded data removed]",
      "text/plain": [
       "<Figure size 432x288 with 1 Axes>"
      ]
     },
     "metadata": {},
     "output_type": "display_data"
    }
   ],
   "source": [
    "age_df = pd.DataFrame()\n",
    "age = [i for i in range(1,100)]\n",
    "age_sq = [i**2 for i in age]\n",
    "\n",
    "age_df['age'] = age\n",
    "age_df['age_sq'] = age_sq\n",
    "age_df['age_cf'] = age_df['age']*-0.0130\n",
    "age_df['age_sq'] = age_df['age_sq']*0.0001\n",
    "age_df['logit'] = age_df['age_sq'] + age_df['age_cf']\n",
    "\n",
    "plt.plot(age_df['age'], age_df['logit'])\n",
    "plt.xlabel('Age')\n",
    "plt.ylabel('-0.0130*Age + 0.0001*Age_sq')"
   ]
  },
  {
   "cell_type": "raw",
   "metadata": {},
   "source": [
    "Solution D:"
   ]
  },
  {
   "cell_type": "raw",
   "metadata": {},
   "source": [
    "Age and Age_sq have absolute value of z_scores < 1.96. For 95% confidence level, these two features can be dropped. This will result in loss of predictive power. Additional information such as confidence interval is requried."
   ]
  },
  {
   "cell_type": "markdown",
   "metadata": {},
   "source": [
    "##### Question 3:"
   ]
  },
  {
   "cell_type": "code",
   "execution_count": null,
   "metadata": {},
   "outputs": [],
   "source": [
    "Part(a)\n",
    "\n",
    "Select * from (SELECT us.City, COUNT(*)\n",
    "FROM trades as ts\n",
    "left Join\n",
    "users as us on ts.User_id = us.User_id\n",
    "where ((ts.Status = 'Cancelled') and (ts.Timestamp = '2016-12-01'))\n",
    "group by us.City\n",
    "order by 2 desc\n",
    ")\n",
    "where rownum <= 5;"
   ]
  },
  {
   "cell_type": "code",
   "execution_count": null,
   "metadata": {},
   "outputs": [],
   "source": [
    "Part (b)\n",
    "\n",
    "Select * from (Select t3.Symbol, COUNT(*) FROM\n",
    "(Select * FROM\n",
    "(Select userid, Price, Quantity, Symbol, Timestamp1 FROM Table1 where \n",
    "Side = 'buy') t1\n",
    "INNER JOIN\n",
    "(Select userid, Price, Quantity, Symbol, Timestamp1 FROM Table1 where \n",
    "Side = 'sell') t2\n",
    "on (t1.Price = t2.Price) and (t1.Quantity = t2.Quantity) and (t1.Timestamp1 = t2.Timestamp1)) t3)\n",
    "group by t1.Symbol\n",
    "order by 2 desc;"
   ]
  }
 ],
 "metadata": {
  "kernelspec": {
   "display_name": "Python 3",
   "language": "python",
   "name": "python3"
  },
  "language_info": {
   "codemirror_mode": {
    "name": "ipython",
    "version": 3
   },
   "file_extension": ".py",
   "mimetype": "text/x-python",
   "name": "python",
   "nbconvert_exporter": "python",
   "pygments_lexer": "ipython3",
   "version": "3.6.5"
  },
  "varInspector": {
   "cols": {
    "lenName": 16,
    "lenType": 16,
    "lenVar": 40
   },
   "kernels_config": {
    "python": {
     "delete_cmd_postfix": "",
     "delete_cmd_prefix": "del ",
     "library": "var_list.py",
     "varRefreshCmd": "print(var_dic_list())"
    },
    "r": {
     "delete_cmd_postfix": ") ",
     "delete_cmd_prefix": "rm(",
     "library": "var_list.r",
     "varRefreshCmd": "cat(var_dic_list()) "
    }
   },
   "types_to_exclude": [
    "module",
    "function",
    "builtin_function_or_method",
    "instance",
    "_Feature"
   ],
   "window_display": false
  }
 },
 "nbformat": 4,
 "nbformat_minor": 2
}
