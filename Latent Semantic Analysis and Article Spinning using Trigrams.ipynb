{
 "cells": [
  {
   "cell_type": "code",
   "execution_count": 1,
   "metadata": {},
   "outputs": [],
   "source": [
    "import nltk"
   ]
  },
  {
   "cell_type": "code",
   "execution_count": 3,
   "metadata": {},
   "outputs": [
    {
     "data": {
      "text/plain": [
       "[('machine', 'NN'), ('leanring', 'NN'), ('is', 'VBZ'), ('great', 'JJ')]"
      ]
     },
     "execution_count": 3,
     "metadata": {},
     "output_type": "execute_result"
    }
   ],
   "source": [
    "nltk.pos_tag(\"machine leanring is great\".split())"
   ]
  },
  {
   "cell_type": "raw",
   "metadata": {},
   "source": [
    "# stemming and lemmatization - both reduce words to a 'base' form\n",
    "what's the difference?\n",
    "        stemming is more 'crude' version"
   ]
  },
  {
   "cell_type": "code",
   "execution_count": 6,
   "metadata": {},
   "outputs": [
    {
     "name": "stdout",
     "output_type": "stream",
     "text": [
      "wolv\n",
      "wolf\n"
     ]
    }
   ],
   "source": [
    "# nltk has handful of stemmers, using PorterStemmer\n",
    "from nltk.stem.porter import PorterStemmer\n",
    "porter_stemmer = PorterStemmer()\n",
    "\n",
    "print(porter_stemmer.stem('wolves'))\n",
    "\n",
    "from nltk.stem import WordNetLemmatizer\n",
    "\n",
    "lemmatizer = WordNetLemmatizer()\n",
    "\n",
    "print(lemmatizer.lemmatize('wolves'))"
   ]
  },
  {
   "cell_type": "code",
   "execution_count": null,
   "metadata": {},
   "outputs": [],
   "source": [
    "# Named Entity Recognition (NER)\n",
    "s = \"Albert Eninstein was born on March 14, 1879\"\n",
    "tags = nltk.pos_tag(s.split())\n",
    "print(tags) #input to names entity recognizer\n",
    "\n",
    "nltk.download('words')\n",
    "nltk.download('maxent_ne_chunker')\n",
    "nltk.ne_chunk(tags)\n",
    "\n",
    "#nltk.ne_chunk(tags).draw()"
   ]
  },
  {
   "cell_type": "markdown",
   "metadata": {},
   "source": [
    "#### Latent Semantic Analysis (LSA)\n",
    "\n",
    "-> is an Unsupervised learning model\n",
    "-> multiple words with the same meaning (synonymy); ex: buy, purchase\n",
    "-> one word with multiple meanings (polysemy) ex: Man - human not animal, Man male not female, Milk - Milk or in the context of \"Milk it\"\n",
    "\n",
    "Computer, PC, laptop are highly correlated variables, we can represent all these varialbes as one latent varible\n",
    "i.e transform to Latent varible by reducing number of features.\n",
    "\n",
    "LSA definitely helps with Synonymy, but there are conflicting views with Polysemy\n",
    "\n",
    "--> Undelying math behind - SVD\n",
    "--> Singular Value Decomposition\n",
    "    Latent Dimensions/Factors\n",
    "        Ex: similar movie using user rating: millions have watched, hence millions of ratings\n",
    "        one would finf the distance beween ratings for all the users for any two movies and can say if they are similar..\n",
    "        since there are millions of users, not ideal => \n",
    "        Action-adventure, Super heores/ super powers/main characters are teenagers/ robots -these are varialbes that can describe movies like Power rangers or Transoformer\n",
    "        So people who like the above 4 categories would like both movies.\n",
    "        Issue: Can't manually identify latent factors/dimensions\n",
    "        \n",
    "        SVD can create Latent factors i.e \n",
    "        SVD preserves the strucutre of the data and also reduces dimensionality\n",
    " \n",
    " LSA is used in Information Retrieval (ex: Google search)"
   ]
  },
  {
   "cell_type": "code",
   "execution_count": 1,
   "metadata": {},
   "outputs": [],
   "source": [
    "import nltk\n",
    "import numpy as np\n",
    "import matplotlib.pyplot as plt\n",
    "\n",
    "from nltk.stem import WordNetLemmatizer\n",
    "from sklearn.decomposition import TruncatedSVD\n",
    "\n",
    "wordnet_lemmatizer = WordNetLemmatizer()"
   ]
  },
  {
   "cell_type": "code",
   "execution_count": 2,
   "metadata": {},
   "outputs": [],
   "source": [
    "titles = [line.rstrip() for line in open('C:/Users/rpothams/Downloads/BD/NLP/nlp_class/all_book_titles.txt')]\n",
    "stopwords = set(w.rstrip() for w in open('C:/Users/rpothams/Downloads/BD/NLP/nlp_class/stopwords.txt'))\n",
    "\n",
    "#adding specific stopwords related to book titles\n",
    "\n",
    "stopwords = stopwords.union({\n",
    "    'introduction', 'edition', 'series', 'application',\n",
    "    'approach', 'card', 'access', 'package', 'plus', 'etext',\n",
    "    'brief', 'vol', 'fundamental', 'guide', 'essential', 'printed',\n",
    "    'third', 'second', 'fourth', })\n",
    "\n",
    "# addition to stopwords: find top most frequent words and use domain knowledge to remove some words"
   ]
  },
  {
   "cell_type": "code",
   "execution_count": 26,
   "metadata": {},
   "outputs": [
    {
     "name": "stdout",
     "output_type": "stream",
     "text": [
      "Number of errors parsing file: 0 number of lines in file: 2373\n"
     ]
    }
   ],
   "source": [
    "def my_tokenizer(s):\n",
    "    s = s.lower()\n",
    "    tokens = nltk.tokenize.word_tokenize(s)\n",
    "    tokens = [t for t in tokens if len(t) > 2] #removing short words, probably not useful\n",
    "    tokens = [wordnet_lemmatizer.lemmatize(t) for t in tokens] # put words in to base form\n",
    "    tokens = [t for t in tokens if t not in stopwords]\n",
    "    tokens = [t for t in tokens if not any(c.isdigit() for c in t)]\n",
    "    return tokens\n",
    "\n",
    "word_index_map = {}\n",
    "current_index = 0\n",
    "all_tokens = []\n",
    "all_titles = []\n",
    "index_word_map = []\n",
    "\n",
    "error_count = 0\n",
    "for title in titles:\n",
    "    try:\n",
    "        title = title.encode('ascii', 'ignore').decode('utf-8') #if title not ascii ignore #w/o decode, we will get objects\n",
    "        # .decode() converts to string\n",
    "        all_titles.append(title)\n",
    "        tokens = my_tokenizer(title)\n",
    "        all_tokens.append(tokens)\n",
    "        for token in tokens:\n",
    "            if token not in word_index_map:\n",
    "                word_index_map[token] = current_index\n",
    "                current_index += 1\n",
    "                index_word_map.append(token)\n",
    "    except Exception as e:\n",
    "        print(e)\n",
    "        error_count += 1\n",
    "        \n",
    "print(\"Number of errors parsing file:\", error_count, \"number of lines in file:\", len(titles))\n",
    "if error_count == len(titles):\n",
    "    print(\"There is no data to do anything with! Quitting...\")\n",
    "    exit()\n",
    "    \n",
    "def tokens_to_vector(tokens):\n",
    "    x = np.zeros(len(word_index_map))\n",
    "    try:\n",
    "        for t in tokens:\n",
    "            i = word_index_map[t]\n",
    "            x[i] = 1 # instead of proportion here we just have 1, 0 if the word in the title\n",
    "    except Exception as e:\n",
    "        print(e)\n",
    "    return x\n",
    "\n",
    "N = len(all_tokens) # number of book titles/document #2373\n",
    "D = len(word_index_map) # number of terms #2070\n",
    "X = np.zeros((D, N)) # DxN cause we are doing NLP i.e term-document matrices, not document-term matrices\n",
    "i = 0\n",
    "\n",
    "for tokens in all_tokens:\n",
    "    try:\n",
    "        X[:,i] = tokens_to_vector(tokens)\n",
    "    except:\n",
    "        pass\n",
    "    i += 1"
   ]
  },
  {
   "cell_type": "code",
   "execution_count": 30,
   "metadata": {},
   "outputs": [
    {
     "name": "stdout",
     "output_type": "stream",
     "text": [
      "[[ 0.08161266  0.08804112]\n",
      " [ 0.13863466  0.20590939]\n",
      " [ 0.02497244  0.0077174 ]\n",
      " ...\n",
      " [ 0.01059757 -0.0010412 ]\n",
      " [ 0.01059757 -0.0010412 ]\n",
      " [ 0.01059757 -0.0010412 ]]\n"
     ]
    },
    {
     "data": {
      "image/png": "[encoded data removed]",
      "text/plain": [
       "<matplotlib.figure.Figure at 0x171cfe10>"
      ]
     },
     "metadata": {},
     "output_type": "display_data"
    }
   ],
   "source": [
    "def main():\n",
    "    svd = TruncatedSVD()\n",
    "    Z = svd.fit_transform(X)\n",
    "    print(Z)\n",
    "    plt.scatter(Z[:,0], Z[:,1])\n",
    "    for i in range(D):\n",
    "        plt.annotate(s=index_word_map[i], xy=(Z[i,0], Z[i,1]))\n",
    "    plt.show()\n",
    "\n",
    "if __name__ == '__main__':\n",
    "    main()"
   ]
  },
  {
   "cell_type": "code",
   "execution_count": null,
   "metadata": {},
   "outputs": [],
   "source": [
    "# As we can see \"sciency\" stuff and \"artsy\" stuff seem to be far off from the plot above.\n",
    "# all book titles i.e D dimensions reduced to d=2 dimensions\n",
    "# ex: For i = 1 i.e index of term, Z[i,0] and Z[i, 1] are x,y co-rdinates on PC-1 and PC-2 axis"
   ]
  },
  {
   "cell_type": "markdown",
   "metadata": {},
   "source": [
    "#### Article Spinning"
   ]
  },
  {
   "cell_type": "code",
   "execution_count": 31,
   "metadata": {},
   "outputs": [],
   "source": [
    "import nltk\n",
    "import random\n",
    "import numpy as np\n",
    "from bs4 import BeautifulSoup"
   ]
  },
  {
   "cell_type": "code",
   "execution_count": 41,
   "metadata": {},
   "outputs": [
    {
     "name": "stdout",
     "output_type": "stream",
     "text": [
      "Original:  \n",
      "this map set met all my expectations, and was far more current than i had expected.  software for turn by turn directions on roadways while driving works great with the garmin ctrex gps.  recommended. to load many states you will need large memory card, 1 gb. \n",
      "\n",
      "Spun\n",
      "this speaker set met all my expectations, and was no more current than i had expected. d- for turn by turn it on roadways while driving works great with the garmin ctrex gps. recommended. to load many states you will need large memory card, 1 first.\n"
     ]
    }
   ],
   "source": [
    "positive_reviews = BeautifulSoup(open('C:/Users/rpothams/Downloads/BD/NLP/nlp_class/electronics/positive.review').read(), 'lxml')\n",
    "positive_reviews = positive_reviews.findAll('review_text')\n",
    "\n",
    "# extract trigrams and insert into dictionary\n",
    "# (w1, w3) is the key, [ w2 ] are the values\n",
    "trigrams = {}\n",
    "for review in positive_reviews:\n",
    "    s = review.text.lower()\n",
    "    tokens = nltk.tokenize.word_tokenize(s)\n",
    "    for i in range(len(tokens) - 2):\n",
    "        try:\n",
    "            key = (tokens[i], tokens[i+2])\n",
    "        except Exception as e:\n",
    "            print(e)\n",
    "        if key not in trigrams:\n",
    "            trigrams[key] = []\n",
    "        trigrams[key].append(tokens[i+1])\n",
    "        \n",
    "        \n",
    "trigrams_probabilities = {}\n",
    "for key, words in trigrams.items():\n",
    "    if len(set(words)) > 1:\n",
    "        d = {}\n",
    "        n = 0\n",
    "        for w in words:\n",
    "            if w not in d:\n",
    "                d[w] = 0\n",
    "            d[w] += 1\n",
    "            n += 1\n",
    "        for w,c in d.items():\n",
    "            d[w] = float(c)/n\n",
    "        trigrams_probabilities[key] = d\n",
    "        \n",
    "def random_sample(d):\n",
    "    '''\n",
    "    input (d): is dictionary of word and it's probability\n",
    "    '''\n",
    "    r = random.random()\n",
    "    cumulative = 0\n",
    "    for w, p in d.items():\n",
    "        cumulative += p\n",
    "        if r < cumulative:\n",
    "            return w\n",
    "        \n",
    "def test_spinner():\n",
    "    review = random.choice(positive_reviews)\n",
    "    s = review.text.lower()\n",
    "    print(\"Original: \", s)\n",
    "    tokens = nltk.tokenize.word_tokenize(s)\n",
    "    for i in range(len(tokens) - 2):\n",
    "        if random.random() < 0.2:\n",
    "            key = (tokens[i], tokens[i+2])\n",
    "            if key in trigrams_probabilities:\n",
    "                w = random_sample(trigrams_probabilities[key])\n",
    "                tokens[i+1] = w\n",
    "    print( \"Spun\")\n",
    "    print(\" \".join(tokens).replace(\" .\", \".\").replace(\" ,\", \",\").replace(\"$ \", \"S$\").replace(\" !\", \"!\"))\n",
    "    \n",
    "test_spinner()"
   ]
  },
  {
   "cell_type": "code",
   "execution_count": 42,
   "metadata": {},
   "outputs": [],
   "source": [
    "# Article spinning with Trigrams doesnt produce great results as expected."
   ]
  },
  {
   "cell_type": "markdown",
   "metadata": {},
   "source": [
    "#### What we didn't talk about in this class\n",
    "-> Edit distance\n",
    "    - insertion, deletion, substitution (to see how close two strings are?) ->did something similar in Genetic Algorithms in ML class\n",
    "    - dynamic programming is involved\n",
    "\n",
    "-> Parsing Trees\n",
    "    - Breaking sentences to tree heirarchy\n",
    "\n",
    "-> MaxEnt classifiers\n",
    "    \"maximum entropy\""
   ]
  }
 ],
 "metadata": {
  "kernelspec": {
   "display_name": "Python 3",
   "language": "python",
   "name": "python3"
  },
  "language_info": {
   "codemirror_mode": {
    "name": "ipython",
    "version": 3
   },
   "file_extension": ".py",
   "mimetype": "text/x-python",
   "name": "python",
   "nbconvert_exporter": "python",
   "pygments_lexer": "ipython3",
   "version": "3.6.4"
  }
 },
 "nbformat": 4,
 "nbformat_minor": 2
}
