{
 "cells": [
  {
   "cell_type": "code",
   "execution_count": 1,
   "metadata": {},
   "outputs": [],
   "source": [
    "import pandas as pd\n",
    "import numpy as np\n",
    "import re"
   ]
  },
  {
   "cell_type": "code",
   "execution_count": 2,
   "metadata": {},
   "outputs": [],
   "source": [
    "func_df = pd.read_csv('tFunc.csv', header = 0)"
   ]
  },
  {
   "cell_type": "code",
   "execution_count": 3,
   "metadata": {},
   "outputs": [],
   "source": [
    "def func_parser(row, col, pattern):\n",
    "    temp = re.findall(pattern, row[col])\n",
    "    temp = np.unique(np.array(temp))\n",
    "    row['adjacentFunc'] = temp\n",
    "    return row"
   ]
  },
  {
   "cell_type": "code",
   "execution_count": 4,
   "metadata": {},
   "outputs": [],
   "source": [
    "adjacentFunc_df = func_df.apply(func_parser, args= ('Function', r'\\$\\w+'), axis = 1)"
   ]
  },
  {
   "cell_type": "code",
   "execution_count": 5,
   "metadata": {},
   "outputs": [],
   "source": [
    "adjacentFunc_df.to_csv('func_parsed.csv', index = False)"
   ]
  },
  {
   "cell_type": "code",
   "execution_count": 7,
   "metadata": {},
   "outputs": [],
   "source": [
    "#Python program to print topological sorting of a DAG \n",
    "from collections import defaultdict \n",
    "  \n",
    "#Class to represent a graph \n",
    "class Graph: \n",
    "    def __init__(self,vertices): \n",
    "        self.graph = defaultdict(list) #dictionary containing adjacency List \n",
    "        self.V = vertices #No. of vertices \n",
    "  \n",
    "    # function to add an edge to graph \n",
    "    def addEdge(self,u,v): \n",
    "        self.graph[u].append(v) \n",
    "  \n",
    "    # A recursive function used by topologicalSort \n",
    "    def topologicalSortUtil(self,v,visited,stack): \n",
    "  \n",
    "        # Mark the current node as visited. \n",
    "        visited[v] = True\n",
    "  \n",
    "        # Recur for all the vertices adjacent to this vertex \n",
    "        for i in self.graph[v]: \n",
    "            if visited[i] == False: \n",
    "                self.topologicalSortUtil(i,visited,stack) \n",
    "  \n",
    "        # Push current vertex to stack which stores result \n",
    "        stack.insert(0,v) \n",
    "  \n",
    "    # The function to do Topological Sort. It uses recursive  \n",
    "    # topologicalSortUtil() \n",
    "    def topologicalSort(self): \n",
    "        # Mark all the vertices as not visited \n",
    "        visited = [False]*self.V \n",
    "        stack =[] \n",
    "  \n",
    "        # Call the recursive helper function to store Topological \n",
    "        # Sort starting from all vertices one by one \n",
    "        for i in range(self.V): \n",
    "            if visited[i] == False: \n",
    "                self.topologicalSortUtil(i,visited,stack) \n",
    "  \n",
    "        # Print contents of stack \n",
    "        print(stack)\n",
    "  "
   ]
  },
  {
   "cell_type": "code",
   "execution_count": 8,
   "metadata": {},
   "outputs": [],
   "source": [
    "g = Graph(6) \n",
    "g.addEdge(5, 2); \n",
    "g.addEdge(5, 0); \n",
    "g.addEdge(4, 0); \n",
    "g.addEdge(4, 1); \n",
    "g.addEdge(2, 3); \n",
    "g.addEdge(3, 1); "
   ]
  },
  {
   "cell_type": "code",
   "execution_count": 10,
   "metadata": {},
   "outputs": [
    {
     "name": "stdout",
     "output_type": "stream",
     "text": [
      "[5, 4, 2, 3, 1, 0]\n"
     ]
    }
   ],
   "source": [
    "g.topologicalSort() "
   ]
  },
  {
   "cell_type": "code",
   "execution_count": 13,
   "metadata": {},
   "outputs": [],
   "source": [
    "import networkx as nx"
   ]
  },
  {
   "cell_type": "code",
   "execution_count": 14,
   "metadata": {},
   "outputs": [],
   "source": [
    "a = np.random.randint(0, 2, size=(10, 10))\n",
    "D = nx.DiGraph(a)"
   ]
  },
  {
   "cell_type": "code",
   "execution_count": 39,
   "metadata": {},
   "outputs": [],
   "source": [
    "# Add a vertex to the dictionary\n",
    "def add_vertex(v):\n",
    "    global graph\n",
    "    global vertices_no\n",
    "    if v in graph:\n",
    "        print(\"Vertex \", v, \" already exists.\")\n",
    "    else:\n",
    "        vertices_no = vertices_no + 1\n",
    "        graph[v] = []\n",
    "\n",
    "# Add an edge between vertex v1 and v2 with edge weight e\n",
    "def add_edge(v1, v2):\n",
    "    global graph\n",
    "    # Check if vertex v1 is a valid vertex\n",
    "    if v1 not in graph:\n",
    "        print(\"Vertex \", v1, \" does not exist.\")\n",
    "    # Check if vertex v2 is a valid vertex\n",
    "    elif v2 not in graph:\n",
    "        print(\"Vertex \", v2, \" does not exist.\")\n",
    "    else:\n",
    "        # Since this code is not restricted to a directed or \n",
    "        # an undirected graph, an edge between v1 v2 does not\n",
    "        # imply that an edge exists between v2 and v1\n",
    "        temp = [v2]\n",
    "        graph[v1].append(temp)\n",
    "\n",
    "# Print the graph\n",
    "def print_graph():\n",
    "    global graph\n",
    "    for vertex in graph:\n",
    "        for edges in graph[vertex]:\n",
    "            print(vertex, \" -> \", edges[0])"
   ]
  },
  {
   "cell_type": "code",
   "execution_count": null,
   "metadata": {},
   "outputs": [],
   "source": []
  },
  {
   "cell_type": "code",
   "execution_count": 41,
   "metadata": {},
   "outputs": [
    {
     "name": "stdout",
     "output_type": "stream",
     "text": [
      "1  ->  2\n",
      "1  ->  3\n",
      "2  ->  3\n",
      "3  ->  4\n",
      "4  ->  1\n",
      "Internal representation:  {1: [[2], [3]], 2: [[3]], 3: [[4]], 4: [[1]]}\n"
     ]
    }
   ],
   "source": [
    "# driver code\n",
    "graph = {}\n",
    "# stores the number of vertices in the graph\n",
    "vertices_no = 0\n",
    "add_vertex(1)\n",
    "add_vertex(2)\n",
    "add_vertex(3)\n",
    "add_vertex(4)\n",
    "# Add the edges between the vertices by specifying\n",
    "# the from and to vertex along with the edge weights.\n",
    "add_edge(1, 2)\n",
    "add_edge(1, 3)\n",
    "add_edge(2, 3)\n",
    "add_edge(3, 4)\n",
    "add_edge(4, 1)\n",
    "print_graph()\n",
    "# Reminder: the second element of each list inside the dictionary\n",
    "# denotes the edge weight.\n",
    "print (\"Internal representation: \", graph)"
   ]
  },
  {
   "cell_type": "code",
   "execution_count": 29,
   "metadata": {},
   "outputs": [
    {
     "data": {
      "text/html": [
       "<div>\n",
       "<style scoped>\n",
       "    .dataframe tbody tr th:only-of-type {\n",
       "        vertical-align: middle;\n",
       "    }\n",
       "\n",
       "    .dataframe tbody tr th {\n",
       "        vertical-align: top;\n",
       "    }\n",
       "\n",
       "    .dataframe thead th {\n",
       "        text-align: right;\n",
       "    }\n",
       "</style>\n",
       "<table border=\"1\" class=\"dataframe\">\n",
       "  <thead>\n",
       "    <tr style=\"text-align: right;\">\n",
       "      <th></th>\n",
       "      <th>ItemName</th>\n",
       "      <th>adjacentFunc</th>\n",
       "    </tr>\n",
       "  </thead>\n",
       "  <tbody>\n",
       "    <tr>\n",
       "      <th>0</th>\n",
       "      <td>$Ed2e</td>\n",
       "      <td>[$dltt12mm]</td>\n",
       "    </tr>\n",
       "    <tr>\n",
       "      <th>1</th>\n",
       "      <td>$Erelstr1</td>\n",
       "      <td>[]</td>\n",
       "    </tr>\n",
       "    <tr>\n",
       "      <th>2</th>\n",
       "      <td>$Eb2p1</td>\n",
       "      <td>[$Ebve1]</td>\n",
       "    </tr>\n",
       "    <tr>\n",
       "      <th>3</th>\n",
       "      <td>$Ecf2p</td>\n",
       "      <td>[$Ecf]</td>\n",
       "    </tr>\n",
       "    <tr>\n",
       "      <th>4</th>\n",
       "      <td>$Einvcap</td>\n",
       "      <td>[$dltt12mm, $pstk12mm]</td>\n",
       "    </tr>\n",
       "  </tbody>\n",
       "</table>\n",
       "</div>"
      ],
      "text/plain": [
       "    ItemName            adjacentFunc\n",
       "0      $Ed2e             [$dltt12mm]\n",
       "1  $Erelstr1                      []\n",
       "2     $Eb2p1                [$Ebve1]\n",
       "3     $Ecf2p                  [$Ecf]\n",
       "4   $Einvcap  [$dltt12mm, $pstk12mm]"
      ]
     },
     "execution_count": 29,
     "metadata": {},
     "output_type": "execute_result"
    }
   ],
   "source": [
    "adjacentFunc_df[['ItemName', 'adjacentFunc']].head()"
   ]
  },
  {
   "cell_type": "code",
   "execution_count": 42,
   "metadata": {},
   "outputs": [],
   "source": [
    "# driver code\n",
    "graph = {}\n",
    "# stores the number of vertices in the graph\n",
    "vertices_no = 0\n",
    "add_vertex(adjacentFunc_df['ItemName'][0])\n",
    "add_vertex(adjacentFunc_df['adjacentFunc'][0][0])\n",
    "add_edge(adjacentFunc_df['ItemName'][0], adjacentFunc_df['adjacentFunc'][0][0], )"
   ]
  },
  {
   "cell_type": "code",
   "execution_count": 43,
   "metadata": {},
   "outputs": [
    {
     "data": {
      "text/plain": [
       "{'$Ed2e': [['$dltt12mm']], '$dltt12mm': []}"
      ]
     },
     "execution_count": 43,
     "metadata": {},
     "output_type": "execute_result"
    }
   ],
   "source": [
    "graph"
   ]
  },
  {
   "cell_type": "code",
   "execution_count": null,
   "metadata": {},
   "outputs": [],
   "source": [
    "def add_all_vertices(row):\n",
    "    add_vertex(row[])"
   ]
  }
 ],
 "metadata": {
  "kernelspec": {
   "display_name": "Python 3",
   "language": "python",
   "name": "python3"
  },
  "language_info": {
   "codemirror_mode": {
    "name": "ipython",
    "version": 3
   },
   "file_extension": ".py",
   "mimetype": "text/x-python",
   "name": "python",
   "nbconvert_exporter": "python",
   "pygments_lexer": "ipython3",
   "version": "3.7.3"
  },
  "varInspector": {
   "cols": {
    "lenName": 16,
    "lenType": 16,
    "lenVar": 40
   },
   "kernels_config": {
    "python": {
     "delete_cmd_postfix": "",
     "delete_cmd_prefix": "del ",
     "library": "var_list.py",
     "varRefreshCmd": "print(var_dic_list())"
    },
    "r": {
     "delete_cmd_postfix": ") ",
     "delete_cmd_prefix": "rm(",
     "library": "var_list.r",
     "varRefreshCmd": "cat(var_dic_list()) "
    }
   },
   "types_to_exclude": [
    "module",
    "function",
    "builtin_function_or_method",
    "instance",
    "_Feature"
   ],
   "window_display": false
  }
 },
 "nbformat": 4,
 "nbformat_minor": 2
}
